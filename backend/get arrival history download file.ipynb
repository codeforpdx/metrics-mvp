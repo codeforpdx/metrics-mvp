{
 "cells": [
  {
   "cell_type": "code",
   "execution_count": 9,
   "id": "9b129447",
   "metadata": {},
   "outputs": [],
   "source": [
    "from models import arrival_history, util, config\n",
    "import datetime"
   ]
  },
  {
   "cell_type": "code",
   "execution_count": 6,
   "id": "56249d9c",
   "metadata": {},
   "outputs": [],
   "source": [
    "agency_id = 'trimet'\n",
    "route_id = '4'\n",
    "date_of_interest = datetime.datetime.strptime('2022-03-10','%Y-%m-%d').date()\n",
    "agency_config = config.get_agency(agency_id)\n",
    "\n",
    "history = arrival_history.get_by_date(agency_id=agency_id,\n",
    "                                                route_id=route_id,\n",
    "                                                d=date_of_interest,\n",
    "                                                version=arrival_history.DefaultVersion)\n",
    "\n",
    "direction_id = '1'\n",
    "start_time = '05:00:00'\n",
    "end_time = '10:00:00'\n",
    "start_time_param = util.get_timestamp_or_none(date_of_interest, start_time, agency_config.tz)\n",
    "end_time_param = util.get_timestamp_or_none(date_of_interest, end_time, agency_config.tz)\n",
    "raw_arrival_df = history.get_data_frame(direction_id=direction_id,\n",
    "                                        start_time=start_time_param,\n",
    "                                        end_time=end_time_param\n",
    "                                        )"
   ]
  },
  {
   "cell_type": "code",
   "execution_count": 7,
   "id": "25673d77-bd11-4457-a323-2ca994a22e14",
   "metadata": {},
   "outputs": [
    {
     "data": {
      "text/html": [
       "<div>\n",
       "<style scoped>\n",
       "    .dataframe tbody tr th:only-of-type {\n",
       "        vertical-align: middle;\n",
       "    }\n",
       "\n",
       "    .dataframe tbody tr th {\n",
       "        vertical-align: top;\n",
       "    }\n",
       "\n",
       "    .dataframe thead th {\n",
       "        text-align: right;\n",
       "    }\n",
       "</style>\n",
       "<table border=\"1\" class=\"dataframe\">\n",
       "  <thead>\n",
       "    <tr style=\"text-align: right;\">\n",
       "      <th></th>\n",
       "      <th>VID</th>\n",
       "      <th>TIME</th>\n",
       "      <th>DEPARTURE_TIME</th>\n",
       "      <th>SID</th>\n",
       "      <th>DID</th>\n",
       "      <th>DIST</th>\n",
       "      <th>TRIP</th>\n",
       "    </tr>\n",
       "  </thead>\n",
       "  <tbody>\n",
       "    <tr>\n",
       "      <th>0</th>\n",
       "      <td>3004</td>\n",
       "      <td>1646919353</td>\n",
       "      <td>1646919391</td>\n",
       "      <td>10177</td>\n",
       "      <td>1</td>\n",
       "      <td>15</td>\n",
       "      <td>60</td>\n",
       "    </tr>\n",
       "    <tr>\n",
       "      <th>1</th>\n",
       "      <td>3640</td>\n",
       "      <td>1646920192</td>\n",
       "      <td>1646920196</td>\n",
       "      <td>10177</td>\n",
       "      <td>1</td>\n",
       "      <td>14</td>\n",
       "      <td>326</td>\n",
       "    </tr>\n",
       "    <tr>\n",
       "      <th>2</th>\n",
       "      <td>3231</td>\n",
       "      <td>1646921233</td>\n",
       "      <td>1646921248</td>\n",
       "      <td>10177</td>\n",
       "      <td>1</td>\n",
       "      <td>15</td>\n",
       "      <td>145</td>\n",
       "    </tr>\n",
       "  </tbody>\n",
       "</table>\n",
       "</div>"
      ],
      "text/plain": [
       "    VID        TIME  DEPARTURE_TIME    SID DID  DIST  TRIP\n",
       "0  3004  1646919353      1646919391  10177   1    15    60\n",
       "1  3640  1646920192      1646920196  10177   1    14   326\n",
       "2  3231  1646921233      1646921248  10177   1    15   145"
      ]
     },
     "execution_count": 7,
     "metadata": {},
     "output_type": "execute_result"
    }
   ],
   "source": [
    "raw_arrival_df.head(3)"
   ]
  },
  {
   "cell_type": "code",
   "execution_count": null,
   "id": "8ce7c5cd-143f-4082-9c03-6d577011be4c",
   "metadata": {},
   "outputs": [],
   "source": []
  }
 ],
 "metadata": {
  "kernelspec": {
   "display_name": "Python 3 (ipykernel)",
   "language": "python",
   "name": "python3"
  },
  "language_info": {
   "codemirror_mode": {
    "name": "ipython",
    "version": 3
   },
   "file_extension": ".py",
   "mimetype": "text/x-python",
   "name": "python",
   "nbconvert_exporter": "python",
   "pygments_lexer": "ipython3",
   "version": "3.7.2"
  },
  "vscode": {
   "interpreter": {
    "hash": "92b610775ac9dfd3e1788ad96ad33db1b36a06902ccce290a432089098ed7fc8"
   }
  }
 },
 "nbformat": 4,
 "nbformat_minor": 5
}
